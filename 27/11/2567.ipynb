{
  "nbformat": 4,
  "nbformat_minor": 0,
  "metadata": {
    "colab": {
      "provenance": [],
      "authorship_tag": "ABX9TyNI7tYddglhSWs7LGnylIMK",
      "include_colab_link": true
    },
    "kernelspec": {
      "name": "python3",
      "display_name": "Python 3"
    },
    "language_info": {
      "name": "python"
    }
  },
  "cells": [
    {
      "cell_type": "markdown",
      "metadata": {
        "id": "view-in-github",
        "colab_type": "text"
      },
      "source": [
        "<a href=\"https://colab.research.google.com/github/Staywithtatar/Bin-Iot-Project/blob/main/27/11/2567.ipynb\" target=\"_parent\"><img src=\"https://colab.research.google.com/assets/colab-badge.svg\" alt=\"Open In Colab\"/></a>"
      ]
    },
    {
      "cell_type": "code",
      "source": [],
      "metadata": {
        "id": "Of3FuyBFa8R0"
      },
      "execution_count": null,
      "outputs": []
    },
    {
      "source": [
        "def คำนวณ_bmi(น้ำหนัก, ส่วนสูง):\n",
        "  \"\"\"คำนวณดัชนีมัฐกาย (BMI).\n",
        "\n",
        "  Args:\n",
        "    น้ำหนัก: น้ำหนักเป็นกิโลกรัม.\n",
        "    ส่วนสูง: ส่วนสูงเป็นเมตร.\n",
        "\n",
        "  Returns:\n",
        "    BMI.\n",
        "  \"\"\"\n",
        "  bmi = น้ำหนัก / (ส่วนสูง ** 2)\n",
        "  return bmi\n",
        "\n",
        "\n",
        "\n",
        "น้ำหนัก = float(input(\"ป้อนน้ำหนักของคุณเป็นกิโลกรัม: \"))\n",
        "ส่วนสูง = float(input(\"ป้อนส่วนสูงของคุณเป็นเมตร: \"))\n",
        "\n",
        "bmi = คำนวณ_bmi(น้ำหนัก, ส่วนสูง)\n",
        "\n",
        "\n",
        "print(\"BMI ของคุณคือ:\", bmi)"
      ],
      "cell_type": "code",
      "metadata": {
        "colab": {
          "base_uri": "https://localhost:8080/"
        },
        "id": "e2WjNKvSbJEV",
        "outputId": "47385c84-0295-44c2-9c4a-e61c1d6b18a0"
      },
      "execution_count": 4,
      "outputs": [
        {
          "output_type": "stream",
          "name": "stdout",
          "text": [
            "ป้อนน้ำหนักของคุณเป็นกิโลกรัม: 75\n",
            "ป้อนส่วนสูงของคุณเป็นเมตร: 1.75\n",
            "BMI ของคุณคือ: 24.489795918367346\n"
          ]
        }
      ]
    },
    {
      "source": [
        "def คำนวณปริมาณคอนกรีต(พื้นที่, ความหนา):\n",
        "  \"\"\"คำนวณปริมาณคอนกรีตที่ต้องการสำหรับเทพื้น\n",
        "\n",
        "  Args:\n",
        "    พื้นที่: พื้นที่ที่ต้องการเทคอนกรีต (หน่วยเป็นตารางเมตร)\n",
        "    ความหนา: หนาของพื้นคอนกรีต (หน่วยเป็นเมตร)\n",
        "\n",
        "  Returns:\n",
        "    ปริมาณคอนกรีตที่ต้องการ (หน่วยเป็นลูกบาศก์เมตร)\n",
        "  \"\"\"\n",
        "  พื้นที่ = กว้าง * ยาว\n",
        "  ปริมาตร = พื้นที่ * ความหนา * 0.01\n",
        "  return ปริมาตร\n",
        "\n",
        "\n",
        "\n",
        "พื้นที่ = float(input(\"พื้นที่ที่ต้องการเทคอนกรีต (ตารางเมตร): \"))\n",
        "ความหนา = float(input(\"ความหนาของพื้นคอนกรีต (เมตร): \"))\n",
        "\n",
        "\n",
        "ปริมาณคอนกรีต = คำนวณปริมาณคอนกรีต(พื้นที่, ความหนา)\n",
        "\n",
        "\n",
        "print(\"คอนกรีตที่ต้องการ:\", ปริมาณคอนกรีต, \"ลูกบาศก์เมตร\")"
      ],
      "cell_type": "code",
      "metadata": {
        "colab": {
          "base_uri": "https://localhost:8080/"
        },
        "id": "qbiov4tzeOo0",
        "outputId": "d45a6b43-be7a-4253-a737-d85677ac84be"
      },
      "execution_count": 16,
      "outputs": [
        {
          "output_type": "stream",
          "name": "stdout",
          "text": [
            "พื้นที่ที่ต้องการเทคอนกรีต (ตารางเมตร): 36\n",
            "ความหนาของพื้นคอนกรีต (เมตร): 15\n",
            "คอนกรีตที่ต้องการ: 5.4 ลูกบาศก์เมตร\n"
          ]
        }
      ]
    },
    {
      "cell_type": "code",
      "source": [
        "000000000000000000000000"
      ],
      "metadata": {
        "id": "igaNlxr8i7a2"
      },
      "execution_count": null,
      "outputs": []
    }
  ]
}